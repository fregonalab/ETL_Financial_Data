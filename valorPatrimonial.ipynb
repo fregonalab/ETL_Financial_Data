{
  "nbformat": 4,
  "nbformat_minor": 0,
  "metadata": {
    "colab": {
      "name": "valorPatrimonial.ipynb",
      "provenance": [],
      "collapsed_sections": [],
      "authorship_tag": "ABX9TyP5N9TCZ0xEUotHGDqfwWA6",
      "include_colab_link": true
    },
    "kernelspec": {
      "name": "python3",
      "display_name": "Python 3"
    },
    "language_info": {
      "name": "python"
    }
  },
  "cells": [
    {
      "cell_type": "markdown",
      "metadata": {
        "id": "view-in-github",
        "colab_type": "text"
      },
      "source": [
        "<a href=\"https://colab.research.google.com/github/fregonalab/Financial_Data_ETL/blob/master/valorPatrimonial.ipynb\" target=\"_parent\"><img src=\"https://colab.research.google.com/assets/colab-badge.svg\" alt=\"Open In Colab\"/></a>"
      ]
    },
    {
      "cell_type": "markdown",
      "source": [
        "# *Valor Patrimonial de Imóveis em SP*\n",
        "\n",
        "---\n",
        "\n",
        "Luiz Guilherme Gomes Fregona\n",
        "\n",
        "Abril, 2022"
      ],
      "metadata": {
        "id": "tRQZwcwTINA9"
      }
    },
    {
      "cell_type": "markdown",
      "source": [
        "## 1.   Introdução\n",
        "\n",
        "*Uma reserva de valor tem como principal característica a manutenção do poder de compra do investidor ao decorrer do tempo. Conforme muitos analistas e consultores de mercado, o ouro, terras e imóveis são ótimas reservas de valor. De modo a averiguar se tal hipótese se mantém verdade no estado de São Paulo, o presente projeto irá comparar o valor venal de imóveis na região com o valor total da inflação brasileira de 1995 até o presente momento, além de produzir um modelo estatístico estimando seus valores no futuro. Os dos são open source e podem ser encontrados no seguinte website: geosampa.prefeitura.sp.gov.br/PaginasPublicas/_SBC.aspx*\n",
        "\n",
        "## 2.   Objetivos\n",
        "\n",
        "*Confirmar a hipótese \"Imóveis protegem contra a inflação\" e prever o valor venal futuro de imóveis em diferentes regiões de São Paulo.*\n",
        "\n",
        "## 3.   Metodologia\n",
        "\n",
        "*A metodologia utilizada nesse trabalho engloba todas as etapas do framework CRISP-DM.*\n",
        "\n",
        "\n",
        "\n"
      ],
      "metadata": {
        "id": "rhO7qlGhJMij"
      }
    },
    {
      "cell_type": "markdown",
      "source": [
        "## 4.   Dat Scraping\n"
      ],
      "metadata": {
        "id": "XnxX1d4mOHmI"
      }
    },
    {
      "cell_type": "markdown",
      "source": [
        "## 5.   Data Understanding\n"
      ],
      "metadata": {
        "id": "_6dRw4UPOORN"
      }
    },
    {
      "cell_type": "markdown",
      "source": [
        "## 6.   Preprocessing\n"
      ],
      "metadata": {
        "id": "eXlalrEYOPgc"
      }
    },
    {
      "cell_type": "markdown",
      "source": [
        "## 7.   Modeling\n"
      ],
      "metadata": {
        "id": "ke5hkBmoOQxl"
      }
    },
    {
      "cell_type": "markdown",
      "source": [
        "## 8.   Evaluation\n"
      ],
      "metadata": {
        "id": "9KpmOi3YOS6B"
      }
    },
    {
      "cell_type": "markdown",
      "source": [
        "## 9.   Deployment"
      ],
      "metadata": {
        "id": "gvCMohLjOUU9"
      }
    },
    {
      "cell_type": "code",
      "source": [
        ""
      ],
      "metadata": {
        "id": "LBOKY_usJFzy"
      },
      "execution_count": null,
      "outputs": []
    }
  ]
}